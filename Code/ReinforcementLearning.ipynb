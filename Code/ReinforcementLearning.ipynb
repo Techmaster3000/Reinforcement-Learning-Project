{
 "cells": [
  {
   "cell_type": "code",
   "execution_count": 34,
   "id": "0d59ff9b",
   "metadata": {},
   "outputs": [],
   "source": [
    "import pygame as pyg"
   ]
  },
  {
   "cell_type": "code",
   "execution_count": 35,
   "id": "8ad6ed50",
   "metadata": {},
   "outputs": [],
   "source": [
    "pyg.init()\n",
    "screen_width = 800\n",
    "screen_height = 800\n",
    "cell_size = 40\n",
    "\n",
    "screen = pyg.display.set_mode((screen_width, screen_height))\n",
    "pyg.display.set_caption(\"Grid learning example\")\n",
    "\n",
    "clock = pyg.time.Clock()"
   ]
  },
  {
   "cell_type": "code",
   "execution_count": 36,
   "id": "01793ce8",
   "metadata": {},
   "outputs": [
    {
     "name": "stdout",
     "output_type": "stream",
     "text": [
      "Grid size: 20 columns x 20 rows\n"
     ]
    }
   ],
   "source": [
    "columns = screen_width // cell_size\n",
    "rows = screen_height // cell_size\n",
    "print(f\"Grid size: {columns} columns x {rows} rows\")"
   ]
  },
  {
   "cell_type": "code",
   "execution_count": 37,
   "id": "a30600d5",
   "metadata": {},
   "outputs": [],
   "source": [
    "def drawGrid():\n",
    "    for x in range(0, screen_width, cell_size):\n",
    "        pyg.draw.line(screen, (200, 200, 200), (x, 0), (x, screen_height))\n",
    "    for y in range(0, screen_height, cell_size):\n",
    "        pyg.draw.line(screen, (200, 200, 200), (0, y), (screen_width, y))"
   ]
  },
  {
   "cell_type": "code",
   "execution_count": 38,
   "id": "39c2f0c3",
   "metadata": {},
   "outputs": [],
   "source": [
    "grid = [[0 for _ in range(columns)] for _ in range(rows)]"
   ]
  },
  {
   "cell_type": "code",
   "execution_count": 39,
   "id": "29d53905",
   "metadata": {},
   "outputs": [],
   "source": [
    "#render the grid\n",
    "def renderGrid():\n",
    "    for y in range(rows):\n",
    "        for x in range(columns):\n",
    "            color = (255, 255, 255) if grid[y][x] == 0 else (0, 255, 0)\n",
    "            pyg.draw.rect(screen, color, (x * cell_size, y * cell_size, cell_size, cell_size))\n",
    "            "
   ]
  },
  {
   "cell_type": "code",
   "execution_count": 40,
   "id": "9c4474b9",
   "metadata": {},
   "outputs": [
    {
     "ename": "KeyboardInterrupt",
     "evalue": "",
     "output_type": "error",
     "traceback": [
      "\u001b[31m---------------------------------------------------------------------------\u001b[39m",
      "\u001b[31mKeyboardInterrupt\u001b[39m                         Traceback (most recent call last)",
      "\u001b[36mCell\u001b[39m\u001b[36m \u001b[39m\u001b[32mIn[40]\u001b[39m\u001b[32m, line 2\u001b[39m\n\u001b[32m      1\u001b[39m \u001b[38;5;28;01mwhile\u001b[39;00m \u001b[38;5;28;01mTrue\u001b[39;00m:\n\u001b[32m----> \u001b[39m\u001b[32m2\u001b[39m     \u001b[43mrenderGrid\u001b[49m\u001b[43m(\u001b[49m\u001b[43m)\u001b[49m\n",
      "\u001b[36mCell\u001b[39m\u001b[36m \u001b[39m\u001b[32mIn[39]\u001b[39m\u001b[32m, line 6\u001b[39m, in \u001b[36mrenderGrid\u001b[39m\u001b[34m()\u001b[39m\n\u001b[32m      4\u001b[39m \u001b[38;5;28;01mfor\u001b[39;00m x \u001b[38;5;129;01min\u001b[39;00m \u001b[38;5;28mrange\u001b[39m(columns):\n\u001b[32m      5\u001b[39m     color = (\u001b[32m255\u001b[39m, \u001b[32m255\u001b[39m, \u001b[32m255\u001b[39m) \u001b[38;5;28;01mif\u001b[39;00m grid[y][x] == \u001b[32m0\u001b[39m \u001b[38;5;28;01melse\u001b[39;00m (\u001b[32m0\u001b[39m, \u001b[32m255\u001b[39m, \u001b[32m0\u001b[39m)\n\u001b[32m----> \u001b[39m\u001b[32m6\u001b[39m     pyg.draw.rect(screen, color, (x * cell_size, y * cell_size, cell_size, cell_size))\n",
      "\u001b[31mKeyboardInterrupt\u001b[39m: "
     ]
    }
   ],
   "source": [
    "while True:\n",
    "    renderGrid()"
   ]
  }
 ],
 "metadata": {
  "kernelspec": {
   "display_name": "Python 3",
   "language": "python",
   "name": "python3"
  },
  "language_info": {
   "codemirror_mode": {
    "name": "ipython",
    "version": 3
   },
   "file_extension": ".py",
   "mimetype": "text/x-python",
   "name": "python",
   "nbconvert_exporter": "python",
   "pygments_lexer": "ipython3",
   "version": "3.13.2"
  }
 },
 "nbformat": 4,
 "nbformat_minor": 5
}
